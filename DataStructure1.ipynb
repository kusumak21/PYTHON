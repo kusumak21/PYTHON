{
 "cells": [
  {
   "cell_type": "markdown",
   "id": "7f8b1af8",
   "metadata": {},
   "source": [
    "#  Datastructures"
   ]
  },
  {
   "cell_type": "code",
   "execution_count": 1,
   "id": "ab928a3a",
   "metadata": {},
   "outputs": [
    {
     "name": "stdout",
     "output_type": "stream",
     "text": [
      "[34, 78, 889, 0, 888, 34, 56, 78, 909, 565, 56]\n"
     ]
    }
   ],
   "source": [
    "# Lists - Collective data enclosed in [ ]\n",
    "\n",
    "# They allow repeated data.They do preserve the order of data\n",
    "l1 = [34,78,889,0,888,34,56,78,909,565,56]\n",
    "print(l1)"
   ]
  },
  {
   "cell_type": "code",
   "execution_count": 2,
   "id": "c58d5587",
   "metadata": {},
   "outputs": [
    {
     "name": "stdout",
     "output_type": "stream",
     "text": [
      "[67, 898, 'name', 'abc', 'xyz', [5, 6], (56, 90, 67, 0)]\n"
     ]
    }
   ],
   "source": [
    "# it allows mixed datatypes to be stored inside lists\n",
    "l2 = [67,898,'name','abc','xyz',[5,6],(56,90,67,0)]\n",
    "print(l2)"
   ]
  },
  {
   "cell_type": "code",
   "execution_count": 3,
   "id": "1d40315e",
   "metadata": {},
   "outputs": [
    {
     "data": {
      "text/plain": [
       "list"
      ]
     },
     "execution_count": 3,
     "metadata": {},
     "output_type": "execute_result"
    }
   ],
   "source": [
    "type(l2)"
   ]
  },
  {
   "cell_type": "code",
   "execution_count": 5,
   "id": "6e4cd291",
   "metadata": {},
   "outputs": [
    {
     "ename": "TypeError",
     "evalue": "can only concatenate list (not \"int\") to list",
     "output_type": "error",
     "traceback": [
      "\u001b[1;31m---------------------------------------------------------------------------\u001b[0m",
      "\u001b[1;31mTypeError\u001b[0m                                 Traceback (most recent call last)",
      "\u001b[1;32m~\\AppData\\Local\\Temp\\ipykernel_1944\\1148648568.py\u001b[0m in \u001b[0;36m<module>\u001b[1;34m\u001b[0m\n\u001b[1;32m----> 1\u001b[1;33m \u001b[0mlist3\u001b[0m \u001b[1;33m=\u001b[0m \u001b[0ml2\u001b[0m \u001b[1;33m+\u001b[0m \u001b[1;36m45\u001b[0m\u001b[1;33m\u001b[0m\u001b[1;33m\u001b[0m\u001b[0m\n\u001b[0m\u001b[0;32m      2\u001b[0m \u001b[0mprint\u001b[0m\u001b[1;33m(\u001b[0m\u001b[0ml3\u001b[0m\u001b[1;33m)\u001b[0m\u001b[1;33m\u001b[0m\u001b[1;33m\u001b[0m\u001b[0m\n",
      "\u001b[1;31mTypeError\u001b[0m: can only concatenate list (not \"int\") to list"
     ]
    }
   ],
   "source": [
    "list3 = l2 + 45\n",
    "print(l3)"
   ]
  },
  {
   "cell_type": "code",
   "execution_count": 6,
   "id": "0e41e99d",
   "metadata": {},
   "outputs": [],
   "source": [
    "l2.append(45)\n",
    "# append is the method in the list which allows to add a particular(single)\n",
    "# element inside the list at the back."
   ]
  },
  {
   "cell_type": "code",
   "execution_count": 7,
   "id": "e490d0d6",
   "metadata": {},
   "outputs": [
    {
     "data": {
      "text/plain": [
       "[67, 898, 'name', 'abc', 'xyz', [5, 6], (56, 90, 67, 0), 45]"
      ]
     },
     "execution_count": 7,
     "metadata": {},
     "output_type": "execute_result"
    }
   ],
   "source": [
    "l2"
   ]
  },
  {
   "cell_type": "code",
   "execution_count": 8,
   "id": "e07b7b39",
   "metadata": {},
   "outputs": [],
   "source": [
    "l2.append([67,89,0])\n"
   ]
  },
  {
   "cell_type": "code",
   "execution_count": 9,
   "id": "4c922d37",
   "metadata": {},
   "outputs": [
    {
     "data": {
      "text/plain": [
       "[67, 898, 'name', 'abc', 'xyz', [5, 6], (56, 90, 67, 0), 45, [67, 89, 0]]"
      ]
     },
     "execution_count": 9,
     "metadata": {},
     "output_type": "execute_result"
    }
   ],
   "source": [
    "l2"
   ]
  },
  {
   "cell_type": "code",
   "execution_count": null,
   "id": "5401e13c",
   "metadata": {},
   "outputs": [],
   "source": [
    "l2.extend([90,89,90,-18])\n",
    "# extend is a method in lists which allows me to insert\n",
    "# multiple values at the end of the list"
   ]
  },
  {
   "cell_type": "code",
   "execution_count": 10,
   "id": "d8c486d5",
   "metadata": {},
   "outputs": [
    {
     "data": {
      "text/plain": [
       "[67, 898, 'name', 'abc', 'xyz', [5, 6], (56, 90, 67, 0), 45, [67, 89, 0]]"
      ]
     },
     "execution_count": 10,
     "metadata": {},
     "output_type": "execute_result"
    }
   ],
   "source": [
    "l2"
   ]
  },
  {
   "cell_type": "code",
   "execution_count": 11,
   "id": "16946dbe",
   "metadata": {},
   "outputs": [
    {
     "data": {
      "text/plain": [
       "[67,\n",
       " 898,\n",
       " 'name',\n",
       " 'abc',\n",
       " 'xyz',\n",
       " [5, 6],\n",
       " (56, 90, 67, 0),\n",
       " 45,\n",
       " [67, 89, 0],\n",
       " 'name']"
      ]
     },
     "execution_count": 11,
     "metadata": {},
     "output_type": "execute_result"
    }
   ],
   "source": [
    "l2.append('name')\n",
    "l2"
   ]
  },
  {
   "cell_type": "code",
   "execution_count": 16,
   "id": "a742d016",
   "metadata": {},
   "outputs": [
    {
     "data": {
      "text/plain": [
       "[34, 78, 889, 0, 888, 34, 56, 78, 909, 565, 56]"
      ]
     },
     "execution_count": 16,
     "metadata": {},
     "output_type": "execute_result"
    }
   ],
   "source": [
    "l1"
   ]
  },
  {
   "cell_type": "code",
   "execution_count": 24,
   "id": "fbcb0329",
   "metadata": {},
   "outputs": [
    {
     "data": {
      "text/plain": [
       "[-1,\n",
       " 67,\n",
       " 898,\n",
       " 'name',\n",
       " 'abc',\n",
       " 'xyz',\n",
       " [5, 6],\n",
       " (56, 90, 67, 0),\n",
       " 45,\n",
       " [67, 89, 0],\n",
       " 'name',\n",
       " 'python',\n",
       " 1,\n",
       " 1,\n",
       " 1]"
      ]
     },
     "execution_count": 24,
     "metadata": {},
     "output_type": "execute_result"
    }
   ],
   "source": [
    "l2.append(1)\n",
    "l2"
   ]
  },
  {
   "cell_type": "code",
   "execution_count": 35,
   "id": "975842d7",
   "metadata": {},
   "outputs": [
    {
     "ename": "TypeError",
     "evalue": "insert expected 2 arguments, got 0",
     "output_type": "error",
     "traceback": [
      "\u001b[1;31m---------------------------------------------------------------------------\u001b[0m",
      "\u001b[1;31mTypeError\u001b[0m                                 Traceback (most recent call last)",
      "\u001b[1;32m~\\AppData\\Local\\Temp\\ipykernel_1944\\2254346934.py\u001b[0m in \u001b[0;36m<module>\u001b[1;34m\u001b[0m\n\u001b[1;32m----> 1\u001b[1;33m \u001b[0ml1\u001b[0m\u001b[1;33m.\u001b[0m\u001b[0minsert\u001b[0m\u001b[1;33m(\u001b[0m\u001b[1;33m)\u001b[0m\u001b[1;33m\u001b[0m\u001b[1;33m\u001b[0m\u001b[0m\n\u001b[0m",
      "\u001b[1;31mTypeError\u001b[0m: insert expected 2 arguments, got 0"
     ]
    }
   ],
   "source": [
    "l1.insert()"
   ]
  },
  {
   "cell_type": "code",
   "execution_count": 34,
   "id": "3de3948a",
   "metadata": {},
   "outputs": [
    {
     "data": {
      "text/plain": [
       "[6, 3, 34, 2, 2, 78, 889, 0, 888, 34, 56, 78, 909, 565, 56]"
      ]
     },
     "execution_count": 34,
     "metadata": {},
     "output_type": "execute_result"
    }
   ],
   "source": [
    "l1.insert(0,6)\n",
    "l1"
   ]
  },
  {
   "cell_type": "code",
   "execution_count": 13,
   "id": "954cbebe",
   "metadata": {},
   "outputs": [
    {
     "data": {
      "text/plain": [
       "[67,\n",
       " 898,\n",
       " 'name',\n",
       " 'abc',\n",
       " 'xyz',\n",
       " [5, 6],\n",
       " (56, 90, 67, 0),\n",
       " 45,\n",
       " [67, 89, 0],\n",
       " 'name',\n",
       " 'python']"
      ]
     },
     "execution_count": 13,
     "metadata": {},
     "output_type": "execute_result"
    }
   ],
   "source": [
    "l2.extend(['python'])\n",
    "l2"
   ]
  },
  {
   "cell_type": "code",
   "execution_count": 30,
   "id": "647e88f8",
   "metadata": {},
   "outputs": [],
   "source": [
    "l2.insert(0,-1)"
   ]
  },
  {
   "cell_type": "code",
   "execution_count": 31,
   "id": "f83cce18",
   "metadata": {},
   "outputs": [
    {
     "data": {
      "text/plain": [
       "[-1,\n",
       " -1,\n",
       " 67,\n",
       " 898,\n",
       " 'name',\n",
       " 'abc',\n",
       " 'xyz',\n",
       " [5, 6],\n",
       " (56, 90, 67, 0),\n",
       " 45,\n",
       " [67, 89, 0],\n",
       " 'name',\n",
       " 'python',\n",
       " 1,\n",
       " 1,\n",
       " 1]"
      ]
     },
     "execution_count": 31,
     "metadata": {},
     "output_type": "execute_result"
    }
   ],
   "source": [
    "l2"
   ]
  },
  {
   "cell_type": "code",
   "execution_count": 32,
   "id": "7ef42b54",
   "metadata": {},
   "outputs": [
    {
     "data": {
      "text/plain": [
       "[5, 6]"
      ]
     },
     "execution_count": 32,
     "metadata": {},
     "output_type": "execute_result"
    }
   ],
   "source": [
    "l2.pop(7)"
   ]
  },
  {
   "cell_type": "code",
   "execution_count": null,
   "id": "0b856ab6",
   "metadata": {},
   "outputs": [],
   "source": [
    "l2"
   ]
  },
  {
   "cell_type": "code",
   "execution_count": null,
   "id": "682b293f",
   "metadata": {},
   "outputs": [],
   "source": [
    "l2.pop()"
   ]
  },
  {
   "cell_type": "code",
   "execution_count": null,
   "id": "953cfe1f",
   "metadata": {},
   "outputs": [],
   "source": [
    "l2"
   ]
  },
  {
   "cell_type": "code",
   "execution_count": null,
   "id": "98804807",
   "metadata": {},
   "outputs": [],
   "source": [
    "del(l2[9])"
   ]
  },
  {
   "cell_type": "code",
   "execution_count": null,
   "id": "a1d7acae",
   "metadata": {},
   "outputs": [],
   "source": [
    "l2"
   ]
  },
  {
   "cell_type": "code",
   "execution_count": null,
   "id": "69f730a2",
   "metadata": {},
   "outputs": [],
   "source": []
  }
 ],
 "metadata": {
  "kernelspec": {
   "display_name": "Python 3 (ipykernel)",
   "language": "python",
   "name": "python3"
  },
  "language_info": {
   "codemirror_mode": {
    "name": "ipython",
    "version": 3
   },
   "file_extension": ".py",
   "mimetype": "text/x-python",
   "name": "python",
   "nbconvert_exporter": "python",
   "pygments_lexer": "ipython3",
   "version": "3.9.13"
  }
 },
 "nbformat": 4,
 "nbformat_minor": 5
}
