{
 "cells": [
  {
   "cell_type": "code",
   "execution_count": 1,
   "id": "baed05f6",
   "metadata": {},
   "outputs": [
    {
     "name": "stdout",
     "output_type": "stream",
     "text": [
      "hello_world\n"
     ]
    }
   ],
   "source": [
    "print(\"hello_world\")"
   ]
  },
  {
   "cell_type": "code",
   "execution_count": 3,
   "id": "777c4f3e",
   "metadata": {},
   "outputs": [],
   "source": [
    "import os"
   ]
  },
  {
   "cell_type": "code",
   "execution_count": 4,
   "id": "2b23d3ce",
   "metadata": {},
   "outputs": [
    {
     "data": {
      "text/plain": [
       "'C:\\\\Users\\\\Lenovo'"
      ]
     },
     "execution_count": 4,
     "metadata": {},
     "output_type": "execute_result"
    }
   ],
   "source": [
    "os.getcwd()"
   ]
  },
  {
   "cell_type": "markdown",
   "id": "ceda6d82",
   "metadata": {},
   "source": [
    "## Data Structure"
   ]
  },
  {
   "cell_type": "markdown",
   "id": "5328f7de",
   "metadata": {},
   "source": [
    "### Lists"
   ]
  },
  {
   "cell_type": "code",
   "execution_count": 20,
   "id": "c9f7bca7",
   "metadata": {},
   "outputs": [],
   "source": [
    "my_list=[\"madhu\",2,8.5,'c']"
   ]
  },
  {
   "cell_type": "code",
   "execution_count": 6,
   "id": "abde2202",
   "metadata": {},
   "outputs": [
    {
     "name": "stdout",
     "output_type": "stream",
     "text": [
      "('madhu', 2, 8.5, 'c')\n"
     ]
    }
   ],
   "source": [
    "print(my_list)"
   ]
  },
  {
   "cell_type": "code",
   "execution_count": 5,
   "id": "15b23582",
   "metadata": {},
   "outputs": [],
   "source": [
    "my_list=['sindhu',21,0.7,'k']\n"
   ]
  },
  {
   "cell_type": "code",
   "execution_count": 8,
   "id": "f1214300",
   "metadata": {},
   "outputs": [
    {
     "name": "stdout",
     "output_type": "stream",
     "text": [
      "('sindhu', 21, 0.7, 'k')\n"
     ]
    }
   ],
   "source": [
    "print(my_list)"
   ]
  },
  {
   "cell_type": "code",
   "execution_count": 6,
   "id": "c3cd2178",
   "metadata": {},
   "outputs": [
    {
     "name": "stdout",
     "output_type": "stream",
     "text": [
      "sindhu\n",
      "21\n",
      "0.7\n",
      "k\n"
     ]
    }
   ],
   "source": [
    "for element in my_list:\n",
    "    print(element)"
   ]
  },
  {
   "cell_type": "code",
   "execution_count": 12,
   "id": "f21eb052",
   "metadata": {},
   "outputs": [
    {
     "name": "stdout",
     "output_type": "stream",
     "text": [
      "Index 3 element: k\n"
     ]
    }
   ],
   "source": [
    "# accessing the index 3 element \n",
    "print('Index 3 element:',my_list[3])"
   ]
  },
  {
   "cell_type": "code",
   "execution_count": 14,
   "id": "22e70185",
   "metadata": {},
   "outputs": [
    {
     "name": "stdout",
     "output_type": "stream",
     "text": [
      "First 2 element: ('sindhu', 21)\n"
     ]
    }
   ],
   "source": [
    "#acess the first 2 element in the list\n",
    "print('First 2 element:',my_list[0:2])"
   ]
  },
  {
   "cell_type": "code",
   "execution_count": 15,
   "id": "59bbbfc1",
   "metadata": {},
   "outputs": [
    {
     "name": "stdout",
     "output_type": "stream",
     "text": [
      "('sindhu', 21, 0.7)\n"
     ]
    }
   ],
   "source": [
    "print(my_list[0:3])"
   ]
  },
  {
   "cell_type": "code",
   "execution_count": 16,
   "id": "7bbbe295",
   "metadata": {},
   "outputs": [
    {
     "name": "stdout",
     "output_type": "stream",
     "text": [
      "('k', 0.7, 21, 'sindhu')\n"
     ]
    }
   ],
   "source": [
    "print(my_list[::-1])"
   ]
  },
  {
   "cell_type": "code",
   "execution_count": 17,
   "id": "a9b865e8",
   "metadata": {},
   "outputs": [
    {
     "name": "stdout",
     "output_type": "stream",
     "text": [
      "('sindhu', 21, 0.7, 'k')\n"
     ]
    }
   ],
   "source": [
    "print(my_list[:])"
   ]
  },
  {
   "cell_type": "code",
   "execution_count": 18,
   "id": "fe29ba4f",
   "metadata": {},
   "outputs": [
    {
     "name": "stdout",
     "output_type": "stream",
     "text": [
      "k\n"
     ]
    }
   ],
   "source": [
    "#print last element\n",
    "print(my_list[-1])"
   ]
  },
  {
   "cell_type": "code",
   "execution_count": 7,
   "id": "a522b816",
   "metadata": {},
   "outputs": [
    {
     "name": "stdout",
     "output_type": "stream",
     "text": [
      "['k', 0.7, 21, 'sindhu']\n"
     ]
    }
   ],
   "source": [
    "print(my_list[::-1])"
   ]
  },
  {
   "cell_type": "code",
   "execution_count": 21,
   "id": "bcceb98c",
   "metadata": {},
   "outputs": [],
   "source": [
    "# adding the list within the list\n",
    "my_list.append(['Datascience','businessanalysitcs'])"
   ]
  },
  {
   "cell_type": "code",
   "execution_count": 22,
   "id": "2cc5f41a",
   "metadata": {},
   "outputs": [
    {
     "name": "stdout",
     "output_type": "stream",
     "text": [
      "['madhu', 2, 8.5, 'c', ['Datascience', 'businessanalysitcs']]\n"
     ]
    }
   ],
   "source": [
    "print(my_list)"
   ]
  },
  {
   "cell_type": "code",
   "execution_count": 23,
   "id": "a6b4796c",
   "metadata": {},
   "outputs": [],
   "source": [
    "# extending a list\n",
    "my_list.extend(['datascience','businessanalysist'])"
   ]
  },
  {
   "cell_type": "code",
   "execution_count": 24,
   "id": "f12d6db4",
   "metadata": {},
   "outputs": [
    {
     "name": "stdout",
     "output_type": "stream",
     "text": [
      "['madhu', 2, 8.5, 'c', ['Datascience', 'businessanalysitcs'], 'datascience', 'businessanalysist']\n"
     ]
    }
   ],
   "source": [
    "print(my_list)"
   ]
  },
  {
   "cell_type": "code",
   "execution_count": 25,
   "id": "97f4688f",
   "metadata": {},
   "outputs": [],
   "source": [
    "# adding a new element at particular index\n",
    "my_list=['sindhu',21,0.7,'k']"
   ]
  },
  {
   "cell_type": "code",
   "execution_count": 26,
   "id": "4b7cc494",
   "metadata": {},
   "outputs": [],
   "source": [
    "my_list.insert(2,['datascience','businessanalysist '])"
   ]
  },
  {
   "cell_type": "code",
   "execution_count": 27,
   "id": "97768463",
   "metadata": {},
   "outputs": [
    {
     "name": "stdout",
     "output_type": "stream",
     "text": [
      "['sindhu', 21, ['datascience', 'businessanalysist '], 0.7, 'k']\n"
     ]
    }
   ],
   "source": [
    "print(my_list)"
   ]
  },
  {
   "cell_type": "code",
   "execution_count": 28,
   "id": "6613109d",
   "metadata": {},
   "outputs": [],
   "source": [
    "my_list=['sindhu',21,0.7,'k']"
   ]
  },
  {
   "cell_type": "code",
   "execution_count": 29,
   "id": "912a0e6d",
   "metadata": {},
   "outputs": [
    {
     "name": "stdout",
     "output_type": "stream",
     "text": [
      "['sindhu', 21, 'k']\n"
     ]
    }
   ],
   "source": [
    "#remove an elemnt from the list \n",
    "del my_list[2]\n",
    "print(my_list)"
   ]
  },
  {
   "cell_type": "code",
   "execution_count": 33,
   "id": "b1a6e2ed",
   "metadata": {},
   "outputs": [],
   "source": [
    "my_list.remove('k')"
   ]
  },
  {
   "cell_type": "code",
   "execution_count": 34,
   "id": "20399ed1",
   "metadata": {},
   "outputs": [
    {
     "name": "stdout",
     "output_type": "stream",
     "text": [
      "['sindhu', 21]\n"
     ]
    }
   ],
   "source": [
    "print(my_list)"
   ]
  },
  {
   "cell_type": "code",
   "execution_count": 35,
   "id": "b51d4a46",
   "metadata": {},
   "outputs": [],
   "source": [
    "my_list=['Sindhu',21,0.7,'k']"
   ]
  },
  {
   "cell_type": "code",
   "execution_count": 36,
   "id": "cc337b89",
   "metadata": {},
   "outputs": [
    {
     "name": "stdout",
     "output_type": "stream",
     "text": [
      "['Sindhu', 21, 'k']\n"
     ]
    }
   ],
   "source": [
    "popped_element=my_list.pop(2)\n",
    "print(my_list)"
   ]
  },
  {
   "cell_type": "code",
   "execution_count": 37,
   "id": "645dbc39",
   "metadata": {},
   "outputs": [
    {
     "name": "stdout",
     "output_type": "stream",
     "text": [
      "0.7\n"
     ]
    }
   ],
   "source": [
    "print(popped_element)"
   ]
  },
  {
   "cell_type": "code",
   "execution_count": 38,
   "id": "a1a48aa9",
   "metadata": {},
   "outputs": [],
   "source": [
    "my_list=[23,44,36,65,77,6,4]"
   ]
  },
  {
   "cell_type": "code",
   "execution_count": 40,
   "id": "578a4676",
   "metadata": {},
   "outputs": [
    {
     "name": "stdout",
     "output_type": "stream",
     "text": [
      "[4, 6, 23, 36, 44, 65, 77]\n"
     ]
    }
   ],
   "source": [
    "my_list.sort()\n",
    "print(my_list)"
   ]
  },
  {
   "cell_type": "code",
   "execution_count": 46,
   "id": "09719267",
   "metadata": {},
   "outputs": [
    {
     "name": "stdout",
     "output_type": "stream",
     "text": [
      "[77, 65, 44, 36, 23, 6, 4]\n"
     ]
    }
   ],
   "source": [
    "my_list.sort(reverse=True)\n",
    "print(my_list)"
   ]
  },
  {
   "cell_type": "code",
   "execution_count": 2,
   "id": "0a82cbb4",
   "metadata": {},
   "outputs": [
    {
     "name": "stdout",
     "output_type": "stream",
     "text": [
      "dream to fly high\n"
     ]
    }
   ],
   "source": [
    "dream_list=('dream to fly high')\n",
    "print(dream_list)"
   ]
  },
  {
   "cell_type": "code",
   "execution_count": 3,
   "id": "32071d10",
   "metadata": {},
   "outputs": [
    {
     "data": {
      "text/plain": [
       "type['dream to fly high']"
      ]
     },
     "execution_count": 3,
     "metadata": {},
     "output_type": "execute_result"
    }
   ],
   "source": [
    "type[dream_list]"
   ]
  },
  {
   "cell_type": "code",
   "execution_count": 7,
   "id": "aeed1f67",
   "metadata": {},
   "outputs": [
    {
     "name": "stdout",
     "output_type": "stream",
     "text": [
      "[21, 34, 56]\n"
     ]
    }
   ],
   "source": [
    "num_list=[21,34,56]\n",
    "print(num_list)"
   ]
  },
  {
   "cell_type": "code",
   "execution_count": 8,
   "id": "be08755b",
   "metadata": {},
   "outputs": [
    {
     "data": {
      "text/plain": [
       "list"
      ]
     },
     "execution_count": 8,
     "metadata": {},
     "output_type": "execute_result"
    }
   ],
   "source": [
    "type(num_list)"
   ]
  },
  {
   "cell_type": "code",
   "execution_count": 11,
   "id": "0a788a78",
   "metadata": {},
   "outputs": [
    {
     "name": "stdout",
     "output_type": "stream",
     "text": [
      "['data science with python', 'big data']\n",
      "['lords of rings', 'harry potter']\n"
     ]
    },
    {
     "data": {
      "text/plain": [
       "list"
      ]
     },
     "execution_count": 11,
     "metadata": {},
     "output_type": "execute_result"
    }
   ],
   "source": [
    "data_science_list=['data science with python','big data']\n",
    "novel_list=['lords of rings','harry potter']\n",
    "print(data_science_list)\n",
    "print(novel_list)\n",
    "type(novel_list)"
   ]
  },
  {
   "cell_type": "code",
   "execution_count": 13,
   "id": "344cb398",
   "metadata": {},
   "outputs": [
    {
     "name": "stdout",
     "output_type": "stream",
     "text": [
      "['data science with python', 'big data', 'lords of rings', 'harry potter']\n"
     ]
    }
   ],
   "source": [
    "library=data_science_list + novel_list\n",
    "print(library)"
   ]
  },
  {
   "cell_type": "code",
   "execution_count": 14,
   "id": "80c0ac8b",
   "metadata": {},
   "outputs": [
    {
     "data": {
      "text/plain": [
       "list"
      ]
     },
     "execution_count": 14,
     "metadata": {},
     "output_type": "execute_result"
    }
   ],
   "source": [
    "type(library)"
   ]
  },
  {
   "cell_type": "code",
   "execution_count": 15,
   "id": "0661f95f",
   "metadata": {},
   "outputs": [],
   "source": [
    "novel_list.append(['jumanji'])"
   ]
  },
  {
   "cell_type": "code",
   "execution_count": 17,
   "id": "9cd24b81",
   "metadata": {},
   "outputs": [
    {
     "name": "stdout",
     "output_type": "stream",
     "text": [
      "['lords of rings', 'harry potter', ['jumanji']]\n"
     ]
    }
   ],
   "source": [
    "print(novel_list)"
   ]
  },
  {
   "cell_type": "markdown",
   "id": "93713549",
   "metadata": {},
   "source": [
    "# TUPLE"
   ]
  },
  {
   "cell_type": "code",
   "execution_count": 47,
   "id": "72602acd",
   "metadata": {},
   "outputs": [
    {
     "name": "stdout",
     "output_type": "stream",
     "text": [
      "()\n"
     ]
    }
   ],
   "source": [
    "empty_tuple=()\n",
    "print(empty_tuple)"
   ]
  },
  {
   "cell_type": "code",
   "execution_count": 48,
   "id": "78a0c13e",
   "metadata": {},
   "outputs": [],
   "source": [
    "my_tuple=('data scientist','sindhu',25,18)"
   ]
  },
  {
   "cell_type": "code",
   "execution_count": 49,
   "id": "b0206bbf",
   "metadata": {},
   "outputs": [
    {
     "name": "stdout",
     "output_type": "stream",
     "text": [
      "('data scientist', 'sindhu', 25, 18)\n"
     ]
    }
   ],
   "source": [
    "print(my_tuple)"
   ]
  },
  {
   "cell_type": "code",
   "execution_count": 52,
   "id": "debc883c",
   "metadata": {},
   "outputs": [
    {
     "name": "stdout",
     "output_type": "stream",
     "text": [
      "data scientist\n",
      "sindhu\n",
      "25\n",
      "18\n"
     ]
    }
   ],
   "source": [
    "for element in my_tuple:\n",
    "    print(element )"
   ]
  },
  {
   "cell_type": "code",
   "execution_count": 54,
   "id": "6a5025af",
   "metadata": {},
   "outputs": [
    {
     "name": "stdout",
     "output_type": "stream",
     "text": [
      "25\n"
     ]
    }
   ],
   "source": [
    "print(my_tuple[2])\n",
    "    "
   ]
  },
  {
   "cell_type": "code",
   "execution_count": 55,
   "id": "5f88ae6b",
   "metadata": {},
   "outputs": [
    {
     "name": "stdout",
     "output_type": "stream",
     "text": [
      "18\n"
     ]
    }
   ],
   "source": [
    "print(my_tuple[-1])"
   ]
  },
  {
   "cell_type": "code",
   "execution_count": 56,
   "id": "54c15654",
   "metadata": {},
   "outputs": [
    {
     "name": "stdout",
     "output_type": "stream",
     "text": [
      "('data scientist', 'sindhu', 25)\n"
     ]
    }
   ],
   "source": [
    "print(my_tuple[0:3])"
   ]
  },
  {
   "cell_type": "code",
   "execution_count": 57,
   "id": "a5c43869",
   "metadata": {},
   "outputs": [
    {
     "name": "stdout",
     "output_type": "stream",
     "text": [
      "i\n"
     ]
    }
   ],
   "source": [
    "print(my_tuple[0][7])"
   ]
  },
  {
   "cell_type": "code",
   "execution_count": 58,
   "id": "3a3fa2f8",
   "metadata": {},
   "outputs": [
    {
     "name": "stdout",
     "output_type": "stream",
     "text": [
      "('data scientist', 'sindhu', 25, 18)\n"
     ]
    }
   ],
   "source": [
    "print(my_tuple)"
   ]
  },
  {
   "cell_type": "code",
   "execution_count": 59,
   "id": "46b90be2",
   "metadata": {},
   "outputs": [
    {
     "name": "stdout",
     "output_type": "stream",
     "text": [
      "3\n"
     ]
    }
   ],
   "source": [
    "print(my_tuple.index(18))"
   ]
  },
  {
   "cell_type": "code",
   "execution_count": 60,
   "id": "beb33aaa",
   "metadata": {},
   "outputs": [
    {
     "name": "stdout",
     "output_type": "stream",
     "text": [
      "('data scientist', 'sindhu', 65, 87, 65, 43)\n"
     ]
    }
   ],
   "source": [
    "my_tuple=('data scientist','sindhu',65,87,65,43)\n",
    "print(my_tuple)"
   ]
  },
  {
   "cell_type": "code",
   "execution_count": 61,
   "id": "16f8ac89",
   "metadata": {},
   "outputs": [
    {
     "name": "stdout",
     "output_type": "stream",
     "text": [
      "2\n"
     ]
    }
   ],
   "source": [
    "print(my_tuple.count(65))"
   ]
  },
  {
   "cell_type": "code",
   "execution_count": 62,
   "id": "87199b28",
   "metadata": {},
   "outputs": [
    {
     "name": "stdout",
     "output_type": "stream",
     "text": [
      "('data scientist', 'sindhu', 65, 87, 65, 43)\n"
     ]
    }
   ],
   "source": [
    "my_tuple=('data scientist','sindhu',65,87,65,43)\n",
    "print(my_tuple)"
   ]
  },
  {
   "cell_type": "code",
   "execution_count": 63,
   "id": "d7745e96",
   "metadata": {},
   "outputs": [
    {
     "name": "stdout",
     "output_type": "stream",
     "text": [
      "('data scientist', 'sindhu', 65, 87, 65, 43, 'sindhu')\n"
     ]
    }
   ],
   "source": [
    "my_tuple=my_tuple+('sindhu',)\n",
    "print(my_tuple)"
   ]
  },
  {
   "cell_type": "code",
   "execution_count": 64,
   "id": "a14bb389",
   "metadata": {},
   "outputs": [
    {
     "name": "stdout",
     "output_type": "stream",
     "text": [
      "('data scientist', 'sindhu', 65, 87, 65, 43, 'sindhu', 'sindhu', 2107)\n"
     ]
    }
   ],
   "source": [
    "my_tuple=my_tuple+('sindhu',2107)\n",
    "print(my_tuple)"
   ]
  },
  {
   "cell_type": "code",
   "execution_count": null,
   "id": "3bdc6587",
   "metadata": {},
   "outputs": [],
   "source": []
  },
  {
   "cell_type": "markdown",
   "id": "f6f61020",
   "metadata": {},
   "source": [
    "## DICTIONARY"
   ]
  },
  {
   "cell_type": "code",
   "execution_count": 71,
   "id": "e5d3c69b",
   "metadata": {},
   "outputs": [
    {
     "name": "stdout",
     "output_type": "stream",
     "text": [
      "{}\n"
     ]
    }
   ],
   "source": [
    "#Creating dictionary\n",
    "my_dict={}\n",
    "print(my_dict)"
   ]
  },
  {
   "cell_type": "code",
   "execution_count": 72,
   "id": "a6f7037e",
   "metadata": {},
   "outputs": [
    {
     "name": "stdout",
     "output_type": "stream",
     "text": [
      "{1: 'data', 2: 'scientists', 3: 'analysty'}\n"
     ]
    }
   ],
   "source": [
    "my_dict={1:'data',2:'scientists',3:'analysty'}\n",
    "print(my_dict)"
   ]
  },
  {
   "cell_type": "code",
   "execution_count": 73,
   "id": "8299244f",
   "metadata": {},
   "outputs": [
    {
     "name": "stdout",
     "output_type": "stream",
     "text": [
      "scientists\n"
     ]
    }
   ],
   "source": [
    "print(my_dict.get(2))"
   ]
  },
  {
   "cell_type": "code",
   "execution_count": 74,
   "id": "fa9e78f0",
   "metadata": {},
   "outputs": [
    {
     "name": "stdout",
     "output_type": "stream",
     "text": [
      "analysty\n"
     ]
    }
   ],
   "source": [
    "print(my_dict[3])"
   ]
  },
  {
   "cell_type": "code",
   "execution_count": 75,
   "id": "015dedc8",
   "metadata": {},
   "outputs": [
    {
     "name": "stdout",
     "output_type": "stream",
     "text": [
      "dict_items([(1, 'data'), (2, 'scientists'), (3, 'analysty')])\n"
     ]
    }
   ],
   "source": [
    "print(my_dict.items())"
   ]
  },
  {
   "cell_type": "code",
   "execution_count": 77,
   "id": "dbc528fa",
   "metadata": {},
   "outputs": [],
   "source": [
    "#changing values in a dictionary\n",
    "my_dict[2]='artist'"
   ]
  },
  {
   "cell_type": "code",
   "execution_count": 78,
   "id": "9f55f024",
   "metadata": {},
   "outputs": [
    {
     "name": "stdout",
     "output_type": "stream",
     "text": [
      "{1: 'data', 2: 'artist', 3: 'analysty'}\n"
     ]
    }
   ],
   "source": [
    "print(my_dict)"
   ]
  },
  {
   "cell_type": "code",
   "execution_count": 79,
   "id": "ecd6430f",
   "metadata": {},
   "outputs": [
    {
     "name": "stdout",
     "output_type": "stream",
     "text": [
      "dict_values(['data', 'artist', 'analysty'])\n"
     ]
    }
   ],
   "source": [
    "print(my_dict.values())"
   ]
  },
  {
   "cell_type": "code",
   "execution_count": 81,
   "id": "096e3f6a",
   "metadata": {},
   "outputs": [
    {
     "name": "stdout",
     "output_type": "stream",
     "text": [
      "{1: 'data', 2: 'artist', 3: 'analysty', 'data': 2107}\n"
     ]
    }
   ],
   "source": [
    "my_dict['data']=2107\n",
    "print(my_dict)"
   ]
  },
  {
   "cell_type": "code",
   "execution_count": 82,
   "id": "7d39d4b7",
   "metadata": {},
   "outputs": [
    {
     "name": "stdout",
     "output_type": "stream",
     "text": [
      "{1: 'data', 2: 'artist', 3: 'sindhu', 'data': 2107}\n"
     ]
    }
   ],
   "source": [
    "my_dict[3]='sindhu'\n",
    "print(my_dict)"
   ]
  },
  {
   "cell_type": "code",
   "execution_count": 83,
   "id": "45b141a3",
   "metadata": {},
   "outputs": [
    {
     "name": "stdout",
     "output_type": "stream",
     "text": [
      "artist\n"
     ]
    }
   ],
   "source": [
    "#pop the spectified element (delecting)\n",
    "a=my_dict.pop(2)\n",
    "print(a)"
   ]
  },
  {
   "cell_type": "code",
   "execution_count": 84,
   "id": "f20b466b",
   "metadata": {},
   "outputs": [
    {
     "name": "stdout",
     "output_type": "stream",
     "text": [
      "{1: 'data', 3: 'sindhu', 'data': 2107}\n"
     ]
    }
   ],
   "source": [
    "print(my_dict)"
   ]
  },
  {
   "cell_type": "code",
   "execution_count": 85,
   "id": "e66e00b9",
   "metadata": {},
   "outputs": [
    {
     "name": "stdout",
     "output_type": "stream",
     "text": [
      "sindhu\n"
     ]
    }
   ],
   "source": [
    "b=my_dict.pop(3)\n",
    "print(b)"
   ]
  },
  {
   "cell_type": "code",
   "execution_count": 86,
   "id": "8ff7e8d5",
   "metadata": {},
   "outputs": [
    {
     "name": "stdout",
     "output_type": "stream",
     "text": [
      "{1: 'data', 'data': 2107}\n"
     ]
    }
   ],
   "source": [
    "print(my_dict)"
   ]
  },
  {
   "cell_type": "code",
   "execution_count": 88,
   "id": "f8b42d38",
   "metadata": {},
   "outputs": [],
   "source": [
    "my_dict.clear()"
   ]
  },
  {
   "cell_type": "code",
   "execution_count": 89,
   "id": "880abbcf",
   "metadata": {},
   "outputs": [
    {
     "name": "stdout",
     "output_type": "stream",
     "text": [
      "{}\n"
     ]
    }
   ],
   "source": [
    "print(my_dict)"
   ]
  },
  {
   "cell_type": "markdown",
   "id": "bd9c7efa",
   "metadata": {},
   "source": [
    "## set"
   ]
  },
  {
   "cell_type": "code",
   "execution_count": 90,
   "id": "573f6763",
   "metadata": {},
   "outputs": [
    {
     "name": "stdout",
     "output_type": "stream",
     "text": [
      "{0.7, 'data analysis', 21, 'sindhu'}\n"
     ]
    }
   ],
   "source": [
    "my_set=set(['sindhu','data analysis',21,0.7])\n",
    "print(my_set)"
   ]
  },
  {
   "cell_type": "code",
   "execution_count": 91,
   "id": "b89c97d8",
   "metadata": {},
   "outputs": [
    {
     "name": "stdout",
     "output_type": "stream",
     "text": [
      "<class 'set'>\n"
     ]
    }
   ],
   "source": [
    "print(type(my_set))"
   ]
  },
  {
   "cell_type": "code",
   "execution_count": 92,
   "id": "b5c14866",
   "metadata": {},
   "outputs": [
    {
     "data": {
      "text/plain": [
       "4"
      ]
     },
     "execution_count": 92,
     "metadata": {},
     "output_type": "execute_result"
    }
   ],
   "source": [
    "len(my_set)"
   ]
  },
  {
   "cell_type": "code",
   "execution_count": 93,
   "id": "5a7e4372",
   "metadata": {},
   "outputs": [
    {
     "name": "stdout",
     "output_type": "stream",
     "text": [
      "{0.7, 'data analysis', 'kusuma', 21, 'sindhu'}\n"
     ]
    }
   ],
   "source": [
    "#adding an element\n",
    "my_set.add('kusuma')\n",
    "print(my_set)"
   ]
  },
  {
   "cell_type": "code",
   "execution_count": 100,
   "id": "fe8b8914",
   "metadata": {},
   "outputs": [],
   "source": [
    "my_set.update(['business','analysis'])"
   ]
  },
  {
   "cell_type": "code",
   "execution_count": 102,
   "id": "40f89047",
   "metadata": {},
   "outputs": [
    {
     "name": "stdout",
     "output_type": "stream",
     "text": [
      "{0.7, 'data analysis', 21, 'sindhu'}\n"
     ]
    }
   ],
   "source": [
    "my_set=set(['sindhu','data analysis',21,0.7])\n",
    "print(my_set)"
   ]
  },
  {
   "cell_type": "code",
   "execution_count": 104,
   "id": "4c337b35",
   "metadata": {},
   "outputs": [
    {
     "name": "stdout",
     "output_type": "stream",
     "text": [
      "{0.7, 'data analysis', 21, 'sindhu'}\n"
     ]
    }
   ],
   "source": []
  },
  {
   "cell_type": "code",
   "execution_count": 118,
   "id": "451d0e58",
   "metadata": {},
   "outputs": [
    {
     "name": "stdout",
     "output_type": "stream",
     "text": [
      "{0.7, 'data analysis', 21, 'sindhu'}\n"
     ]
    }
   ],
   "source": [
    "\n",
    "my_set=set(['sindhu','data analysis',21,0.7])\n",
    "print(my_set)\n"
   ]
  },
  {
   "cell_type": "code",
   "execution_count": 119,
   "id": "02090a2d",
   "metadata": {},
   "outputs": [
    {
     "name": "stdout",
     "output_type": "stream",
     "text": [
      "{0.7, 21, 'sindhu'}\n"
     ]
    }
   ],
   "source": [
    "my_set.remove('data analysis')\n",
    "print(my_set)"
   ]
  },
  {
   "cell_type": "code",
   "execution_count": 120,
   "id": "ae55dff5",
   "metadata": {},
   "outputs": [
    {
     "name": "stdout",
     "output_type": "stream",
     "text": [
      "{0.7, 'sindhu'}\n"
     ]
    }
   ],
   "source": [
    "my_set.discard(21)\n",
    "print(my_set)"
   ]
  },
  {
   "cell_type": "code",
   "execution_count": null,
   "id": "10490e11",
   "metadata": {},
   "outputs": [],
   "source": []
  }
 ],
 "metadata": {
  "kernelspec": {
   "display_name": "Python 3 (ipykernel)",
   "language": "python",
   "name": "python3"
  },
  "language_info": {
   "codemirror_mode": {
    "name": "ipython",
    "version": 3
   },
   "file_extension": ".py",
   "mimetype": "text/x-python",
   "name": "python",
   "nbconvert_exporter": "python",
   "pygments_lexer": "ipython3",
   "version": "3.9.13"
  }
 },
 "nbformat": 4,
 "nbformat_minor": 5
}
